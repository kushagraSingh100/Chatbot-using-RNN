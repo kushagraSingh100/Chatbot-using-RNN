{
  "nbformat": 4,
  "nbformat_minor": 0,
  "metadata": {
    "colab": {
      "provenance": [],
      "gpuType": "T4"
    },
    "kernelspec": {
      "name": "python3",
      "display_name": "Python 3"
    },
    "language_info": {
      "name": "python"
    },
    "accelerator": "GPU"
  },
  "cells": [
    {
      "cell_type": "code",
      "execution_count": 1,
      "metadata": {
        "id": "aWafWwZk8OIe"
      },
      "outputs": [],
      "source": [
        "import pickle\n",
        "with open('train_qa.txt', 'rb') as file:\n",
        "    data = pickle.load(file)"
      ]
    },
    {
      "cell_type": "code",
      "source": [
        "with open('test_qa.txt', 'rb') as file:\n",
        "    data_test = pickle.load(file)"
      ],
      "metadata": {
        "id": "nJbvjiTQ0g9d"
      },
      "execution_count": 2,
      "outputs": []
    },
    {
      "cell_type": "code",
      "source": [
        "print(len(data))\n",
        "print(len(data_test))"
      ],
      "metadata": {
        "colab": {
          "base_uri": "https://localhost:8080/"
        },
        "id": "NEyFcjnc9uoP",
        "outputId": "784e328d-3322-4241-a350-10cddb873ff0"
      },
      "execution_count": 3,
      "outputs": [
        {
          "output_type": "stream",
          "name": "stdout",
          "text": [
            "10000\n",
            "1000\n"
          ]
        }
      ]
    },
    {
      "cell_type": "code",
      "source": [
        "def see_data(data,n):\n",
        "  Story = ' '\n",
        "  for x in data[n][0]:\n",
        "    Story = Story + x + ' '\n",
        "  Question = ' '\n",
        "  for y in data[n][1]:\n",
        "    Question = Question + y + ' '\n",
        "  Answer = ' '\n",
        "  for z in data[n][2]:\n",
        "    Answer = Answer + z\n",
        "  print(f\"Story: {Story}\")\n",
        "  print(f\"Query: {Question}\")\n",
        "  print(f\"Answer: {Answer}\")\n"
      ],
      "metadata": {
        "id": "NJ5eui6D--wJ"
      },
      "execution_count": 4,
      "outputs": []
    },
    {
      "cell_type": "code",
      "source": [
        "see_data(data,0)\n",
        "see_data(data,1)\n",
        "see_data(data,2)\n",
        "see_data(data,3)"
      ],
      "metadata": {
        "colab": {
          "base_uri": "https://localhost:8080/"
        },
        "id": "wR6IvmjtAIaY",
        "outputId": "110d8e0b-a4ed-4ff3-e1c4-83335fec5d5f"
      },
      "execution_count": 5,
      "outputs": [
        {
          "output_type": "stream",
          "name": "stdout",
          "text": [
            "Story:  Mary moved to the bathroom . Sandra journeyed to the bedroom . \n",
            "Query:  Is Sandra in the hallway ? \n",
            "Answer:  no\n",
            "Story:  Mary moved to the bathroom . Sandra journeyed to the bedroom . Mary went back to the bedroom . Daniel went back to the hallway . \n",
            "Query:  Is Daniel in the bathroom ? \n",
            "Answer:  no\n",
            "Story:  Mary moved to the bathroom . Sandra journeyed to the bedroom . Mary went back to the bedroom . Daniel went back to the hallway . Sandra went to the kitchen . Daniel went back to the bathroom . \n",
            "Query:  Is Daniel in the office ? \n",
            "Answer:  no\n",
            "Story:  Mary moved to the bathroom . Sandra journeyed to the bedroom . Mary went back to the bedroom . Daniel went back to the hallway . Sandra went to the kitchen . Daniel went back to the bathroom . Daniel picked up the football there . Daniel went to the bedroom . \n",
            "Query:  Is Daniel in the bedroom ? \n",
            "Answer:  yes\n"
          ]
        }
      ]
    },
    {
      "cell_type": "code",
      "source": [
        "from tensorflow.keras.preprocessing.text import Tokenizer\n",
        "from tensorflow.keras.preprocessing.sequence import pad_sequences\n",
        "import numpy as np\n",
        "\n",
        "# Combine all data for tokenization\n",
        "all_data = [item for sublist in data + data_test for item in sublist]\n",
        "tokenizer = Tokenizer()\n",
        "tokenizer.fit_on_texts(all_data)\n",
        "\n",
        "vocab_size = len(tokenizer.word_index) + 1\n",
        "max_story_len = max(map(len,(x for x,_,_ in data+data_test)))\n",
        "max_question_len= max(map(len,(x for _,x,_ in data+data_test)))\n",
        "def vectorize_stories(data, tokenizer, max_story_len, max_question_len, vocab_size):\n",
        "    X_stories = []\n",
        "    X_questions = []\n",
        "    Y_answers = []\n",
        "\n",
        "    for story, question, answer in data:\n",
        "        story_seq = tokenizer.texts_to_sequences([story])[0]\n",
        "        question_seq = tokenizer.texts_to_sequences([question])[0]\n",
        "\n",
        "        # One-hot encode the answer\n",
        "        answer_seq = np.zeros(vocab_size)\n",
        "        answer_index = tokenizer.word_index[answer]\n",
        "        answer_seq[answer_index] = 1\n",
        "\n",
        "        X_stories.append(story_seq)\n",
        "        X_questions.append(question_seq)\n",
        "        Y_answers.append(answer_seq)\n",
        "\n",
        "    return pad_sequences(X_stories, maxlen=max_story_len), pad_sequences(X_questions, maxlen=max_question_len), np.array(Y_answers)\n",
        "X_story_train, X_question_train, Y_answer_train = vectorize_stories(data, tokenizer, max_story_len, max_question_len, vocab_size)\n",
        "X_story_test, X_question_test, Y_answer_test = vectorize_stories(data_test, tokenizer, max_story_len, max_question_len, vocab_size)\n",
        "\n"
      ],
      "metadata": {
        "id": "LmYQjY_nLf0W"
      },
      "execution_count": 6,
      "outputs": []
    },
    {
      "cell_type": "code",
      "source": [
        "print(max_story_len)\n",
        "print(max_question_len)\n",
        "print(len(X_story_train[0]))\n",
        "print(len(X_question_train[0]))\n",
        "print(len(Y_answer_train[0]))\n",
        "print(len(X_story_test[0]))\n",
        "print(len(X_question_test[0]))\n",
        "print(len(Y_answer_test[0]))"
      ],
      "metadata": {
        "colab": {
          "base_uri": "https://localhost:8080/"
        },
        "id": "kwvxNaU3Gsb8",
        "outputId": "6ee01be9-61d1-4d62-9786-88cb062fa1e0"
      },
      "execution_count": 7,
      "outputs": [
        {
          "output_type": "stream",
          "name": "stdout",
          "text": [
            "156\n",
            "6\n",
            "156\n",
            "6\n",
            "38\n",
            "156\n",
            "6\n",
            "38\n"
          ]
        }
      ]
    },
    {
      "cell_type": "code",
      "source": [
        "import numpy as np\n",
        "import tensorflow as tf\n",
        "import keras\n",
        "from keras import layers"
      ],
      "metadata": {
        "id": "1RSeEy9-DIDO"
      },
      "execution_count": 8,
      "outputs": []
    },
    {
      "cell_type": "code",
      "source": [
        "from tensorflow.keras.layers import Input, Embedding, Dropout, dot, Activation, add, Permute, concatenate, SimpleRNN, Dense\n",
        "from tensorflow.keras.models import Model\n",
        "\n",
        "# Inputs\n",
        "input_sequence = Input((max_story_len,))\n",
        "question = Input((max_question_len,))\n",
        "embed_size = 100\n",
        "# Encoding layers\n",
        "M = Embedding(input_dim=vocab_size, output_dim=embed_size)(input_sequence)\n",
        "C = Embedding(input_dim=vocab_size, output_dim=max_question_len)(input_sequence)\n",
        "question_encoder = Embedding(input_dim=vocab_size, output_dim=embed_size, input_length=max_question_len)(question)\n",
        "\n",
        "# Operations\n",
        "matcho = dot([M, question_encoder], axes=-1, normalize=False)\n",
        "matcho = Activation('softmax')(matcho)\n",
        "\n",
        "a_ = add([matcho,])\n",
        "a_ = Permute((2, 1))(a_)\n",
        "\n",
        "answers = concatenate([a_, question_encoder])\n",
        "\n",
        "# Final layers\n",
        "answers = SimpleRNN(50)(answers)\n",
        "answers = Dropout(0.3)(answers)\n",
        "answers = Dense(vocab_size)(answers)\n",
        "answers = Activation('softmax')(answers)\n",
        "\n",
        "# Model\n",
        "model = Model(inputs=[input_sequence, question], outputs=answers)\n"
      ],
      "metadata": {
        "id": "RlST_oUo-OdN"
      },
      "execution_count": 9,
      "outputs": []
    },
    {
      "cell_type": "code",
      "source": [
        "model.compile(optimizer = 'rmsprop',loss = 'categorical_crossentropy',metrics = ['accuracy'])"
      ],
      "metadata": {
        "id": "AhGUZNzHrEjq"
      },
      "execution_count": 10,
      "outputs": []
    },
    {
      "cell_type": "code",
      "source": [
        "model.summary()"
      ],
      "metadata": {
        "colab": {
          "base_uri": "https://localhost:8080/"
        },
        "id": "QvBC11bMrsmV",
        "outputId": "8bebb52f-0c09-4212-8270-eb783483e095"
      },
      "execution_count": 11,
      "outputs": [
        {
          "output_type": "stream",
          "name": "stdout",
          "text": [
            "Model: \"model\"\n",
            "__________________________________________________________________________________________________\n",
            " Layer (type)                Output Shape                 Param #   Connected to                  \n",
            "==================================================================================================\n",
            " input_1 (InputLayer)        [(None, 156)]                0         []                            \n",
            "                                                                                                  \n",
            " input_2 (InputLayer)        [(None, 6)]                  0         []                            \n",
            "                                                                                                  \n",
            " embedding (Embedding)       (None, 156, 100)             3800      ['input_1[0][0]']             \n",
            "                                                                                                  \n",
            " embedding_2 (Embedding)     (None, 6, 100)               3800      ['input_2[0][0]']             \n",
            "                                                                                                  \n",
            " dot (Dot)                   (None, 156, 6)               0         ['embedding[0][0]',           \n",
            "                                                                     'embedding_2[0][0]']         \n",
            "                                                                                                  \n",
            " activation (Activation)     (None, 156, 6)               0         ['dot[0][0]']                 \n",
            "                                                                                                  \n",
            " add (Add)                   (None, 156, 6)               0         ['activation[0][0]']          \n",
            "                                                                                                  \n",
            " permute (Permute)           (None, 6, 156)               0         ['add[0][0]']                 \n",
            "                                                                                                  \n",
            " concatenate (Concatenate)   (None, 6, 256)               0         ['permute[0][0]',             \n",
            "                                                                     'embedding_2[0][0]']         \n",
            "                                                                                                  \n",
            " simple_rnn (SimpleRNN)      (None, 50)                   15350     ['concatenate[0][0]']         \n",
            "                                                                                                  \n",
            " dropout (Dropout)           (None, 50)                   0         ['simple_rnn[0][0]']          \n",
            "                                                                                                  \n",
            " dense (Dense)               (None, 38)                   1938      ['dropout[0][0]']             \n",
            "                                                                                                  \n",
            " activation_1 (Activation)   (None, 38)                   0         ['dense[0][0]']               \n",
            "                                                                                                  \n",
            "==================================================================================================\n",
            "Total params: 24888 (97.22 KB)\n",
            "Trainable params: 24888 (97.22 KB)\n",
            "Non-trainable params: 0 (0.00 Byte)\n",
            "__________________________________________________________________________________________________\n"
          ]
        }
      ]
    },
    {
      "cell_type": "code",
      "source": [
        "history = model.fit([X_story_train,X_question_train],Y_answer_train,epochs = 50,validation_data = ([X_story_test,X_question_test],Y_answer_test))"
      ],
      "metadata": {
        "colab": {
          "base_uri": "https://localhost:8080/"
        },
        "id": "RJdsq8UQruqV",
        "outputId": "c46ca4e2-9cda-49dd-8c00-7467ce5b0795"
      },
      "execution_count": 12,
      "outputs": [
        {
          "output_type": "stream",
          "name": "stdout",
          "text": [
            "Epoch 1/50\n",
            "313/313 [==============================] - 7s 11ms/step - loss: 0.7867 - accuracy: 0.4981 - val_loss: 0.6972 - val_accuracy: 0.4970\n",
            "Epoch 2/50\n",
            "313/313 [==============================] - 3s 10ms/step - loss: 0.7094 - accuracy: 0.5036 - val_loss: 0.7060 - val_accuracy: 0.4970\n",
            "Epoch 3/50\n",
            "313/313 [==============================] - 3s 9ms/step - loss: 0.7022 - accuracy: 0.4973 - val_loss: 0.6952 - val_accuracy: 0.5030\n",
            "Epoch 4/50\n",
            "313/313 [==============================] - 4s 12ms/step - loss: 0.6977 - accuracy: 0.5019 - val_loss: 0.6987 - val_accuracy: 0.5030\n",
            "Epoch 5/50\n",
            "313/313 [==============================] - 3s 9ms/step - loss: 0.6965 - accuracy: 0.5072 - val_loss: 0.6938 - val_accuracy: 0.5030\n",
            "Epoch 6/50\n",
            "313/313 [==============================] - 3s 10ms/step - loss: 0.6952 - accuracy: 0.5121 - val_loss: 0.6931 - val_accuracy: 0.4970\n",
            "Epoch 7/50\n",
            "313/313 [==============================] - 3s 11ms/step - loss: 0.6058 - accuracy: 0.6656 - val_loss: 0.4675 - val_accuracy: 0.8040\n",
            "Epoch 8/50\n",
            "313/313 [==============================] - 3s 11ms/step - loss: 0.3980 - accuracy: 0.8351 - val_loss: 0.4214 - val_accuracy: 0.8270\n",
            "Epoch 9/50\n",
            "313/313 [==============================] - 3s 9ms/step - loss: 0.3581 - accuracy: 0.8538 - val_loss: 0.4406 - val_accuracy: 0.8350\n",
            "Epoch 10/50\n",
            "313/313 [==============================] - 3s 9ms/step - loss: 0.3438 - accuracy: 0.8565 - val_loss: 0.3929 - val_accuracy: 0.8380\n",
            "Epoch 11/50\n",
            "313/313 [==============================] - 4s 12ms/step - loss: 0.3349 - accuracy: 0.8600 - val_loss: 0.3828 - val_accuracy: 0.8350\n",
            "Epoch 12/50\n",
            "313/313 [==============================] - 3s 9ms/step - loss: 0.3356 - accuracy: 0.8598 - val_loss: 0.3873 - val_accuracy: 0.8440\n",
            "Epoch 13/50\n",
            "313/313 [==============================] - 3s 9ms/step - loss: 0.3283 - accuracy: 0.8629 - val_loss: 0.3958 - val_accuracy: 0.8250\n",
            "Epoch 14/50\n",
            "313/313 [==============================] - 3s 9ms/step - loss: 0.3234 - accuracy: 0.8658 - val_loss: 0.3933 - val_accuracy: 0.8370\n",
            "Epoch 15/50\n",
            "313/313 [==============================] - 4s 12ms/step - loss: 0.3248 - accuracy: 0.8657 - val_loss: 0.4133 - val_accuracy: 0.8360\n",
            "Epoch 16/50\n",
            "313/313 [==============================] - 3s 9ms/step - loss: 0.3203 - accuracy: 0.8685 - val_loss: 0.3719 - val_accuracy: 0.8460\n",
            "Epoch 17/50\n",
            "313/313 [==============================] - 3s 9ms/step - loss: 0.3187 - accuracy: 0.8643 - val_loss: 0.3652 - val_accuracy: 0.8380\n",
            "Epoch 18/50\n",
            "313/313 [==============================] - 3s 9ms/step - loss: 0.3173 - accuracy: 0.8643 - val_loss: 0.3771 - val_accuracy: 0.8410\n",
            "Epoch 19/50\n",
            "313/313 [==============================] - 4s 12ms/step - loss: 0.3147 - accuracy: 0.8679 - val_loss: 0.3632 - val_accuracy: 0.8380\n",
            "Epoch 20/50\n",
            "313/313 [==============================] - 3s 9ms/step - loss: 0.3122 - accuracy: 0.8668 - val_loss: 0.3718 - val_accuracy: 0.8380\n",
            "Epoch 21/50\n",
            "313/313 [==============================] - 3s 9ms/step - loss: 0.3074 - accuracy: 0.8654 - val_loss: 0.3630 - val_accuracy: 0.8320\n",
            "Epoch 22/50\n",
            "313/313 [==============================] - 3s 10ms/step - loss: 0.3082 - accuracy: 0.8672 - val_loss: 0.3553 - val_accuracy: 0.8390\n",
            "Epoch 23/50\n",
            "313/313 [==============================] - 4s 11ms/step - loss: 0.3077 - accuracy: 0.8659 - val_loss: 0.3778 - val_accuracy: 0.8330\n",
            "Epoch 24/50\n",
            "313/313 [==============================] - 3s 9ms/step - loss: 0.3030 - accuracy: 0.8688 - val_loss: 0.3566 - val_accuracy: 0.8410\n",
            "Epoch 25/50\n",
            "313/313 [==============================] - 3s 9ms/step - loss: 0.3044 - accuracy: 0.8684 - val_loss: 0.3470 - val_accuracy: 0.8470\n",
            "Epoch 26/50\n",
            "313/313 [==============================] - 4s 12ms/step - loss: 0.3038 - accuracy: 0.8670 - val_loss: 0.3620 - val_accuracy: 0.8370\n",
            "Epoch 27/50\n",
            "313/313 [==============================] - 3s 9ms/step - loss: 0.3010 - accuracy: 0.8695 - val_loss: 0.3440 - val_accuracy: 0.8360\n",
            "Epoch 28/50\n",
            "313/313 [==============================] - 3s 9ms/step - loss: 0.2977 - accuracy: 0.8672 - val_loss: 0.3583 - val_accuracy: 0.8360\n",
            "Epoch 29/50\n",
            "313/313 [==============================] - 3s 10ms/step - loss: 0.2983 - accuracy: 0.8677 - val_loss: 0.3659 - val_accuracy: 0.8380\n",
            "Epoch 30/50\n",
            "313/313 [==============================] - 4s 12ms/step - loss: 0.2955 - accuracy: 0.8701 - val_loss: 0.3469 - val_accuracy: 0.8410\n",
            "Epoch 31/50\n",
            "313/313 [==============================] - 3s 9ms/step - loss: 0.2981 - accuracy: 0.8727 - val_loss: 0.3571 - val_accuracy: 0.8420\n",
            "Epoch 32/50\n",
            "313/313 [==============================] - 3s 9ms/step - loss: 0.2954 - accuracy: 0.8710 - val_loss: 0.3554 - val_accuracy: 0.8300\n",
            "Epoch 33/50\n",
            "313/313 [==============================] - 3s 9ms/step - loss: 0.2923 - accuracy: 0.8718 - val_loss: 0.3482 - val_accuracy: 0.8410\n",
            "Epoch 34/50\n",
            "313/313 [==============================] - 4s 12ms/step - loss: 0.2923 - accuracy: 0.8728 - val_loss: 0.3559 - val_accuracy: 0.8380\n",
            "Epoch 35/50\n",
            "313/313 [==============================] - 3s 9ms/step - loss: 0.2923 - accuracy: 0.8744 - val_loss: 0.3489 - val_accuracy: 0.8430\n",
            "Epoch 36/50\n",
            "313/313 [==============================] - 3s 9ms/step - loss: 0.2926 - accuracy: 0.8733 - val_loss: 0.3596 - val_accuracy: 0.8420\n",
            "Epoch 37/50\n",
            "313/313 [==============================] - 3s 9ms/step - loss: 0.2867 - accuracy: 0.8769 - val_loss: 0.3574 - val_accuracy: 0.8440\n",
            "Epoch 38/50\n",
            "313/313 [==============================] - 4s 12ms/step - loss: 0.2812 - accuracy: 0.8812 - val_loss: 0.3450 - val_accuracy: 0.8430\n",
            "Epoch 39/50\n",
            "313/313 [==============================] - 3s 9ms/step - loss: 0.2787 - accuracy: 0.8817 - val_loss: 0.3525 - val_accuracy: 0.8450\n",
            "Epoch 40/50\n",
            "313/313 [==============================] - 3s 9ms/step - loss: 0.2680 - accuracy: 0.8899 - val_loss: 0.3426 - val_accuracy: 0.8550\n",
            "Epoch 41/50\n",
            "313/313 [==============================] - 4s 11ms/step - loss: 0.2542 - accuracy: 0.8955 - val_loss: 0.3258 - val_accuracy: 0.8620\n",
            "Epoch 42/50\n",
            "313/313 [==============================] - 3s 10ms/step - loss: 0.2308 - accuracy: 0.9032 - val_loss: 0.3034 - val_accuracy: 0.8710\n",
            "Epoch 43/50\n",
            "313/313 [==============================] - 3s 9ms/step - loss: 0.2097 - accuracy: 0.9164 - val_loss: 0.2549 - val_accuracy: 0.8750\n",
            "Epoch 44/50\n",
            "313/313 [==============================] - 3s 9ms/step - loss: 0.1878 - accuracy: 0.9247 - val_loss: 0.2414 - val_accuracy: 0.8990\n",
            "Epoch 45/50\n",
            "313/313 [==============================] - 4s 12ms/step - loss: 0.1716 - accuracy: 0.9335 - val_loss: 0.2485 - val_accuracy: 0.9130\n",
            "Epoch 46/50\n",
            "313/313 [==============================] - 3s 9ms/step - loss: 0.1659 - accuracy: 0.9366 - val_loss: 0.2393 - val_accuracy: 0.9050\n",
            "Epoch 47/50\n",
            "313/313 [==============================] - 3s 9ms/step - loss: 0.1561 - accuracy: 0.9415 - val_loss: 0.2625 - val_accuracy: 0.9090\n",
            "Epoch 48/50\n",
            "313/313 [==============================] - 3s 10ms/step - loss: 0.1548 - accuracy: 0.9412 - val_loss: 0.2558 - val_accuracy: 0.9190\n",
            "Epoch 49/50\n",
            "313/313 [==============================] - 4s 12ms/step - loss: 0.1463 - accuracy: 0.9453 - val_loss: 0.2327 - val_accuracy: 0.9080\n",
            "Epoch 50/50\n",
            "313/313 [==============================] - 3s 9ms/step - loss: 0.1423 - accuracy: 0.9484 - val_loss: 0.2441 - val_accuracy: 0.9030\n"
          ]
        }
      ]
    },
    {
      "cell_type": "code",
      "source": [
        "import matplotlib.pyplot as plt"
      ],
      "metadata": {
        "id": "aY8E6AAq2VUa"
      },
      "execution_count": 13,
      "outputs": []
    },
    {
      "cell_type": "code",
      "source": [
        "plt.plot(history.history['accuracy'],label=\"Train accuracy\")\n",
        "plt.plot(history.history['val_accuracy'], label = \"Validation accuracy\")\n",
        "plt.legend()"
      ],
      "metadata": {
        "id": "cT9TImVKsd8Z",
        "colab": {
          "base_uri": "https://localhost:8080/",
          "height": 447
        },
        "outputId": "6f406841-cf80-4e28-ffac-b929e208edba"
      },
      "execution_count": 14,
      "outputs": [
        {
          "output_type": "execute_result",
          "data": {
            "text/plain": [
              "<matplotlib.legend.Legend at 0x7eca11366a70>"
            ]
          },
          "metadata": {},
          "execution_count": 14
        },
        {
          "output_type": "display_data",
          "data": {
            "text/plain": [
              "<Figure size 640x480 with 1 Axes>"
            ],
            "image/png": "[encoded data removed]"
          },
          "metadata": {}
        }
      ]
    },
    {
      "cell_type": "code",
      "source": [
        "plt.plot(history.history['loss'],label=\"Train loss\")\n",
        "plt.plot(history.history['val_loss'], label = \"Validation loss\")\n",
        "plt.legend()"
      ],
      "metadata": {
        "id": "4Clp2wvgseUc",
        "colab": {
          "base_uri": "https://localhost:8080/",
          "height": 447
        },
        "outputId": "f12e45cc-4c0f-412b-8aed-9490fa3ef340"
      },
      "execution_count": 15,
      "outputs": [
        {
          "output_type": "execute_result",
          "data": {
            "text/plain": [
              "<matplotlib.legend.Legend at 0x7ec99838a530>"
            ]
          },
          "metadata": {},
          "execution_count": 15
        },
        {
          "output_type": "display_data",
          "data": {
            "text/plain": [
              "<Figure size 640x480 with 1 Axes>"
            ],
            "image/png": "[encoded data removed]"
          },
          "metadata": {}
        }
      ]
    },
    {
      "cell_type": "code",
      "source": [
        "predictions = model.predict([X_story_test,X_question_test])"
      ],
      "metadata": {
        "colab": {
          "base_uri": "https://localhost:8080/"
        },
        "id": "ss9AzH4E7KQA",
        "outputId": "9e1ba55c-fe92-4c2f-a6ba-9549e934d526"
      },
      "execution_count": 16,
      "outputs": [
        {
          "output_type": "stream",
          "name": "stdout",
          "text": [
            "32/32 [==============================] - 0s 3ms/step\n"
          ]
        }
      ]
    },
    {
      "cell_type": "code",
      "source": [
        "for i in range(0,10):\n",
        "  Stories = ' '\n",
        "  for x in data_test[i][0]:\n",
        "    Stories = Stories + x + ' '\n",
        "  Questions = ' '\n",
        "  for y in data_test[i][1]:\n",
        "    Questions = Questions + y + ' '\n",
        "  print(f\"Story: {Stories}\")\n",
        "  print(f\"Question: {Questions}\")\n",
        "  print(f\"Original Answer: {data_test[i][2]}\")\n",
        "  index = np.argmax(predictions[i])\n",
        "  for x,y in tokenizer.word_index.items():\n",
        "    if y == index:\n",
        "      print(f\"Predicted Answer: {x}\")\n",
        "      print(\"-----------------------------------------------------------------------------------------\")"
      ],
      "metadata": {
        "colab": {
          "base_uri": "https://localhost:8080/"
        },
        "id": "IdgXT165TXJ-",
        "outputId": "63f01fb3-9f6d-4160-c83d-121cea224aed"
      },
      "execution_count": 42,
      "outputs": [
        {
          "output_type": "stream",
          "name": "stdout",
          "text": [
            "Story:  Mary got the milk there . John moved to the bedroom . \n",
            "Question:  Is John in the kitchen ? \n",
            "Original Answer: no\n",
            "Predicted Answer: no\n",
            "-----------------------------------------------------------------------------------------\n",
            "Story:  Mary got the milk there . John moved to the bedroom . Mary discarded the milk . John went to the garden . \n",
            "Question:  Is John in the kitchen ? \n",
            "Original Answer: no\n",
            "Predicted Answer: no\n",
            "-----------------------------------------------------------------------------------------\n",
            "Story:  Mary got the milk there . John moved to the bedroom . Mary discarded the milk . John went to the garden . Daniel moved to the bedroom . Daniel went to the garden . \n",
            "Question:  Is John in the garden ? \n",
            "Original Answer: yes\n",
            "Predicted Answer: yes\n",
            "-----------------------------------------------------------------------------------------\n",
            "Story:  Mary got the milk there . John moved to the bedroom . Mary discarded the milk . John went to the garden . Daniel moved to the bedroom . Daniel went to the garden . Daniel travelled to the bathroom . Sandra travelled to the bedroom . \n",
            "Question:  Is Daniel in the bathroom ? \n",
            "Original Answer: yes\n",
            "Predicted Answer: yes\n",
            "-----------------------------------------------------------------------------------------\n",
            "Story:  Mary got the milk there . John moved to the bedroom . Mary discarded the milk . John went to the garden . Daniel moved to the bedroom . Daniel went to the garden . Daniel travelled to the bathroom . Sandra travelled to the bedroom . Mary took the football there . Sandra grabbed the milk there . \n",
            "Question:  Is Daniel in the bedroom ? \n",
            "Original Answer: no\n",
            "Predicted Answer: yes\n",
            "-----------------------------------------------------------------------------------------\n",
            "Story:  Daniel went back to the kitchen . Mary grabbed the apple there . \n",
            "Question:  Is Daniel in the office ? \n",
            "Original Answer: no\n",
            "Predicted Answer: no\n",
            "-----------------------------------------------------------------------------------------\n",
            "Story:  Daniel went back to the kitchen . Mary grabbed the apple there . Daniel journeyed to the office . John went back to the office . \n",
            "Question:  Is Daniel in the hallway ? \n",
            "Original Answer: no\n",
            "Predicted Answer: no\n",
            "-----------------------------------------------------------------------------------------\n",
            "Story:  Daniel went back to the kitchen . Mary grabbed the apple there . Daniel journeyed to the office . John went back to the office . Mary left the apple . Daniel went to the hallway . \n",
            "Question:  Is Daniel in the hallway ? \n",
            "Original Answer: yes\n",
            "Predicted Answer: yes\n",
            "-----------------------------------------------------------------------------------------\n",
            "Story:  Daniel went back to the kitchen . Mary grabbed the apple there . Daniel journeyed to the office . John went back to the office . Mary left the apple . Daniel went to the hallway . John went to the hallway . Daniel picked up the milk there . \n",
            "Question:  Is John in the kitchen ? \n",
            "Original Answer: no\n",
            "Predicted Answer: no\n",
            "-----------------------------------------------------------------------------------------\n",
            "Story:  Daniel went back to the kitchen . Mary grabbed the apple there . Daniel journeyed to the office . John went back to the office . Mary left the apple . Daniel went to the hallway . John went to the hallway . Daniel picked up the milk there . John grabbed the football there . Mary got the apple there . \n",
            "Question:  Is Daniel in the hallway ? \n",
            "Original Answer: yes\n",
            "Predicted Answer: yes\n",
            "-----------------------------------------------------------------------------------------\n"
          ]
        }
      ]
    },
    {
      "cell_type": "code",
      "source": [],
      "metadata": {
        "id": "cUjHNcFyUe0j"
      },
      "execution_count": null,
      "outputs": []
    }
  ]
}